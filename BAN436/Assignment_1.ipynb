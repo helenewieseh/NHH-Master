{
  "nbformat": 4,
  "nbformat_minor": 0,
  "metadata": {
    "colab": {
      "provenance": []
    },
    "kernelspec": {
      "name": "python3",
      "display_name": "Python 3"
    },
    "language_info": {
      "name": "python"
    }
  },
  "cells": [
    {
      "cell_type": "markdown",
      "source": [
        "Daily Exercise, part 1\n"
      ],
      "metadata": {
        "id": "xgtpoFtysqJb"
      }
    },
    {
      "cell_type": "code",
      "source": [
        "# Prompt the user for a temperature in Fahrenheit\n",
        "fahrenheit = float(input(\"Enter the temperature in Fahrenheit: \"))\n",
        "\n",
        "# Convert the temperature to Celsius using the formula\n",
        "celsius = (5/9) * (fahrenheit - 32)\n",
        "\n",
        "# Display the converted temperature to the user\n",
        "print(f\"The temperature in Celsius is: {celsius:.2f}°C\")"
      ],
      "metadata": {
        "colab": {
          "base_uri": "https://localhost:8080/"
        },
        "id": "TJolF3H8tul8",
        "outputId": "4b76c795-6517-47b8-8594-90f89221fa13"
      },
      "execution_count": 2,
      "outputs": [
        {
          "output_type": "stream",
          "name": "stdout",
          "text": [
            "Enter the temperature in Fahrenheit: 3\n",
            "The temperature in Celsius is: -16.11°C\n"
          ]
        }
      ]
    }
  ]
}